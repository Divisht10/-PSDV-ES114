{
 "cells": [
  {
   "cell_type": "markdown",
   "id": "71b54666-570b-486c-a21b-9b96ebb1cc19",
   "metadata": {},
   "source": [
    "# Prerequisite Questions for PSDV"
   ]
  },
  {
   "cell_type": "markdown",
   "id": "e2b70d33-31ac-4e1c-9f9c-0e95d3e4341d",
   "metadata": {},
   "source": [
    "## 1. List Operations and Basic Statistics:"
   ]
  },
  {
   "cell_type": "code",
   "execution_count": 1,
   "id": "d597812e-9c46-4c5a-ad62-6f18e198d830",
   "metadata": {},
   "outputs": [
    {
     "name": "stdout",
     "output_type": "stream",
     "text": [
      "110\n",
      "654729075\n",
      "10.5\n",
      "10.5\n",
      "5.766281297335398\n"
     ]
    }
   ],
   "source": [
    "l=list(range(1,21))\n",
    "s=0\n",
    "p=1\n",
    "for i in l:\n",
    "    if i%2==0:\n",
    "        s+=i\n",
    "    else:\n",
    "        p*=i\n",
    "print(s)\n",
    "print(p)\n",
    "mean=sum(l)/len(l)\n",
    "t=0\n",
    "for j in l:\n",
    "    t+=(j-mean)**2\n",
    "sd=(t/len(l))**0.5\n",
    "l.sort()\n",
    "if len(l)%2==0:\n",
    "    a=l[int(len(l)/2)-1]\n",
    "    b=l[int(len(l)/2)]\n",
    "    median=(a+b)/2\n",
    "else:\n",
    "    median=l[int((n-1)/2)]\n",
    "print(mean)\n",
    "print(median)\n",
    "print(sd)"
   ]
  },
  {
   "cell_type": "markdown",
   "id": "066ac873-eb78-4a36-b29e-b1f8343775ee",
   "metadata": {},
   "source": [
    "## 2.Mutable vs. Immutable Data Types:"
   ]
  },
  {
   "cell_type": "markdown",
   "id": "9586fe97-8e69-48ee-a1cd-8f1d6c81c92a",
   "metadata": {},
   "source": [
    "#### In Python, the datatypes that can be changed directly after they've been created are called mutable data types. For example, lists, sets, and dictionaries are mutable because you can modify their contents without changing their identity. On the other hand, immutable data types can't be changed once they're created. If you try to change them, a new data version will be created instead of modifying the original one. Examples : integers, floats, strings, and tuples."
   ]
  },
  {
   "cell_type": "markdown",
   "id": "d5575f12-935d-4a7a-bcf5-bc3e1152c820",
   "metadata": {},
   "source": [
    "## 3. Fibonacci Sequence:"
   ]
  },
  {
   "cell_type": "code",
   "execution_count": 1,
   "id": "79887dca-1386-41af-be35-b2017f0fb0d3",
   "metadata": {},
   "outputs": [
    {
     "name": "stdout",
     "output_type": "stream",
     "text": [
      "First 10 fibonacci numbers: [0, 1, 1, 2, 3, 5, 8, 13, 21, 34]\n"
     ]
    },
    {
     "data": {
      "text/plain": [
       "[<matplotlib.lines.Line2D at 0x22f12108200>]"
      ]
     },
     "execution_count": 1,
     "metadata": {},
     "output_type": "execute_result"
    },
    {
     "data": {
      "image/png": "[encoded data removed]",
      "text/plain": [
       "<Figure size 640x480 with 1 Axes>"
      ]
     },
     "metadata": {},
     "output_type": "display_data"
    }
   ],
   "source": [
    "import matplotlib.pyplot as plt\n",
    "\n",
    "def fibo(n):\n",
    "    f = [0, 1]\n",
    "    for i in range(2, n):\n",
    "        f.append(f[-1] + f[-2])\n",
    "    return f\n",
    "\n",
    "fig, axis = plt.subplots()\n",
    "print(f\"First 10 fibonacci numbers: {fibo(10)}\")\n",
    "axis.plot(list(range(1, 11)), fibo(10))"
   ]
  },
  {
   "cell_type": "markdown",
   "id": "3dc9e3f0-79bb-4fd2-b7f8-2b8ff3aa61b0",
   "metadata": {},
   "source": [
    "## 4. List Manipulation:"
   ]
  },
  {
   "cell_type": "code",
   "execution_count": 9,
   "id": "eaa22e5e-593f-4fdd-ba97-253eef718011",
   "metadata": {},
   "outputs": [
    {
     "name": "stdout",
     "output_type": "stream",
     "text": [
      "[13, 11, 9, 6, 5, 3]\n",
      "7.833333333333333\n",
      "7.5\n"
     ]
    }
   ],
   "source": [
    "l = [3,5,7,9,11,13]\n",
    "l.insert(3,6)\n",
    "l.remove(7)\n",
    "l.sort(reverse=True)\n",
    "mean=sum(l)/len(l)\n",
    "if len(l)%2==0:\n",
    "    x=l[int(len(l)/2)-1]\n",
    "    y=l[int(len(l)/2)]\n",
    "    med=(x+y)/2\n",
    "else:\n",
    "    med=l[int((n-1)/2)]\n",
    "print(l)\n",
    "print(mean)\n",
    "print(med)"
   ]
  },
  {
   "cell_type": "markdown",
   "id": "5b4db8db-a3ee-4336-b343-2342c6b5a480",
   "metadata": {},
   "source": [
    "## 5. User Input and Basic Statistics:"
   ]
  },
  {
   "cell_type": "code",
   "execution_count": 15,
   "id": "4f6bb0d0-6753-4b76-aea8-9fdc9ca70bd8",
   "metadata": {},
   "outputs": [
    {
     "name": "stdin",
     "output_type": "stream",
     "text": [
      " 10,20,30,40\n"
     ]
    },
    {
     "name": "stdout",
     "output_type": "stream",
     "text": [
      "7.833333333333333\n",
      "13\n",
      "3\n"
     ]
    },
    {
     "data": {
      "image/png": "[encoded data removed]",
      "text/plain": [
       "<Figure size 640x480 with 1 Axes>"
      ]
     },
     "metadata": {},
     "output_type": "display_data"
    }
   ],
   "source": [
    "import numpy as np\n",
    "a = list(map(int,input().split(\",\")))\n",
    "mean=sum(l)/len(l)\n",
    "print(mean)\n",
    "print(max(l))\n",
    "print(min(l))\n",
    "plt.hist(np.array(l))\n",
    "plt.show()"
   ]
  },
  {
   "cell_type": "markdown",
   "id": "235de002-c841-47cd-af5a-10976ee22f4e",
   "metadata": {},
   "source": [
    "## 6. Palindrome Check:"
   ]
  },
  {
   "cell_type": "code",
   "execution_count": 17,
   "id": "23094e53-1b03-4567-b9d5-46fae8471a4d",
   "metadata": {},
   "outputs": [
    {
     "name": "stdin",
     "output_type": "stream",
     "text": [
      " \"A man a plan a canal Panama\"\n"
     ]
    },
    {
     "name": "stdout",
     "output_type": "stream",
     "text": [
      "True\n"
     ]
    }
   ],
   "source": [
    "x = input()\n",
    "x = x.lower()\n",
    "x = x.replace(\" \",\"\")\n",
    "print(x == x[::-1])"
   ]
  },
  {
   "cell_type": "markdown",
   "id": "e795940d-3bda-4931-8c5a-ec1f88c80987",
   "metadata": {},
   "source": [
    "## 7. Dictionary Operations:"
   ]
  },
  {
   "cell_type": "code",
   "execution_count": 22,
   "id": "3c42d516-b512-419c-9f6f-c289e617c890",
   "metadata": {},
   "outputs": [
    {
     "name": "stdin",
     "output_type": "stream",
     "text": [
      "Enter number of students:  4\n",
      "Enter name:  Divisht \n",
      "Enter marks:  80\n",
      "Enter name:  Akhil\n",
      "Enter marks:  91\n",
      "Enter name:  Amrit 24\n",
      "Enter marks:  31\n",
      "Enter name:  Jay \n",
      "Enter marks:  71\n"
     ]
    },
    {
     "name": "stdout",
     "output_type": "stream",
     "text": [
      "Average marks: 68.25\n",
      "Divisht \n",
      "Akhil\n",
      "Jay \n"
     ]
    },
    {
     "data": {
      "image/png": "[encoded data removed]",
      "text/plain": [
       "<Figure size 640x480 with 1 Axes>"
      ]
     },
     "metadata": {},
     "output_type": "display_data"
    }
   ],
   "source": [
    "import matplotlib.pyplot as plt\n",
    "import numpy as np\n",
    "n=int(input(\"Enter number of students: \"))\n",
    "d={}\n",
    "for i in range(n):\n",
    "    name=input(\"Enter name: \")\n",
    "    marks=int(input(\"Enter marks: \"))\n",
    "    d[name]=marks\n",
    "lm=list(d.values())\n",
    "am=sum(lm)/len(lm)\n",
    "print(\"Average marks:\",am)\n",
    "for j in d:\n",
    "    if d[j]>am:\n",
    "        print(j)\n",
    "x=np.array(list(d.keys()))\n",
    "y=np.array(lm)\n",
    "plt.bar(x,y)\n",
    "plt.show()"
   ]
  },
  {
   "cell_type": "markdown",
   "id": "7e54c2f2-106c-49af-bff0-60585df520c5",
   "metadata": {},
   "source": [
    "## 8. Tuple List Creation:"
   ]
  },
  {
   "cell_type": "code",
   "execution_count": 23,
   "id": "0f9db531-29f2-44d6-aeb0-a4cec9705130",
   "metadata": {},
   "outputs": [
    {
     "name": "stdin",
     "output_type": "stream",
     "text": [
      "Enter a number:  12\n"
     ]
    },
    {
     "name": "stdout",
     "output_type": "stream",
     "text": [
      "[(1, 1), (2, 4), (3, 9), (4, 16), (5, 25), (6, 36), (7, 49), (8, 64), (9, 81), (10, 100), (11, 121), (12, 144)]\n"
     ]
    },
    {
     "data": {
      "image/png": "[encoded data removed]",
      "text/plain": [
       "<Figure size 640x480 with 1 Axes>"
      ]
     },
     "metadata": {},
     "output_type": "display_data"
    }
   ],
   "source": [
    "import matplotlib.pyplot as plt\n",
    "import numpy as np\n",
    "n=int(input(\"Enter a number: \"))\n",
    "l=[]\n",
    "for i in range(1,n+1):\n",
    "    l.append((i,i**2))\n",
    "print(l)\n",
    "x=np.array(list(i for i in range(1,n+1)))\n",
    "y=np.array(list(i**2 for i in range(1,n+1)))\n",
    "plt.scatter(x,y)\n",
    "plt.show()"
   ]
  },
  {
   "cell_type": "markdown",
   "id": "b5808f0c-152c-48bc-81a1-aedd34fc8db1",
   "metadata": {},
   "source": [
    "## 9. Merging Dictionaries:"
   ]
  },
  {
   "cell_type": "code",
   "execution_count": 25,
   "id": "8fa533d5-174f-4ec1-b9ca-8841e1ec9270",
   "metadata": {},
   "outputs": [
    {
     "name": "stdout",
     "output_type": "stream",
     "text": [
      "merged_dictionary: {'a': 10, 'b': 25, 'c': 15}\n"
     ]
    }
   ],
   "source": [
    "d1={\"a\":10, \"b\":20}\n",
    "d2={\"b\":5, \"c\":15}\n",
    "d3={}\n",
    "for i in d1:\n",
    "    if i not in d2:\n",
    "        d3[i]=d1[i]\n",
    "    else:\n",
    "        d3[i]= d1[i] + d2[i]\n",
    "for j in d2:\n",
    "    if j not in d1:\n",
    "        d3[j]=d2[j]\n",
    "print(f\"merged_dictionary: {d3}\")"
   ]
  },
  {
   "cell_type": "markdown",
   "id": "70d8a45b-24bf-4f42-9b7e-e9f76541a7e2",
   "metadata": {},
   "source": [
    "## 10. Character Frequency:"
   ]
  },
  {
   "cell_type": "code",
   "execution_count": 27,
   "id": "a36edad5-3ec1-42a4-8654-56734010d504",
   "metadata": {},
   "outputs": [
    {
     "name": "stdout",
     "output_type": "stream",
     "text": [
      "{'c': 3, 'a': 7, 'p': 1, 't': 3, 'i': 5, 'n': 5, ' ': 9, 'm': 2, 'e': 2, 'r': 3, ',': 4, 'o': 3, 'h': 2, 'u': 2, 'l': 2, 'k': 2, 'd': 2, 'b': 1, 'w': 2}\n"
     ]
    },
    {
     "data": {
      "image/png": "[encoded data removed]",
      "text/plain": [
       "<Figure size 640x480 with 1 Axes>"
      ]
     },
     "metadata": {},
     "output_type": "display_data"
    }
   ],
   "source": [
    "import matplotlib.pyplot as plt\n",
    "s=\"Captain America, Iron Man, Thor, Hulk, and Black Widow unite\"\n",
    "s=s.lower()\n",
    "d={}\n",
    "for i in s:\n",
    "    if i not in d:\n",
    "        d[i]=1\n",
    "    else:\n",
    "        d[i]=d[i]+1\n",
    "print(d)\n",
    "plt.bar(list(d.keys()),list(d.values()))\n",
    "plt.show()"
   ]
  },
  {
   "cell_type": "markdown",
   "id": "5b4b6fdc-b06e-4b41-bb67-3d5071f2c94a",
   "metadata": {},
   "source": [
    "## 11. Remove Duplicates:"
   ]
  },
  {
   "cell_type": "code",
   "execution_count": 28,
   "id": "5ad806ab-38c2-4365-896e-bad255486ae4",
   "metadata": {},
   "outputs": [
    {
     "name": "stdout",
     "output_type": "stream",
     "text": [
      "[1, 2, 4, 3, 6, 5, 7, 8, 9, 10, 11]\n",
      "6.0\n",
      "5\n"
     ]
    }
   ],
   "source": [
    "l=[1,2,4,3,6,1,4,5,7,5,8,8,9,1,1,2,3,4,5,6,7,8,9,3,4,10,11]\n",
    "l2=[]\n",
    "for i in l:\n",
    "    if i not in l2:\n",
    "        l2.append(i)\n",
    "mean=sum(l2)/len(l2)\n",
    "if len(l2)%2==0:\n",
    "    x=l2[int(len(l2)/2)-1]\n",
    "    y=l2[int(len(l2)/2)]\n",
    "    median=(x+y)/2\n",
    "else:\n",
    "    median=l2[int((len(l2)-1)/2)]\n",
    "print(l2)\n",
    "print(mean)\n",
    "print(median)"
   ]
  },
  {
   "cell_type": "markdown",
   "id": "a29e8bcc-8957-487b-8673-66229631a3a5",
   "metadata": {},
   "source": [
    "## 12. String Operations:"
   ]
  },
  {
   "cell_type": "code",
   "execution_count": 4,
   "id": "f78eeb5d-2100-4a37-879d-5c2773f7b084",
   "metadata": {},
   "outputs": [
    {
     "name": "stdout",
     "output_type": "stream",
     "text": [
      "bAsKeTbAlL\n",
      "ice hockey\n",
      "1\n"
     ]
    },
    {
     "data": {
      "image/png": "[encoded data removed]",
      "text/plain": [
       "<Figure size 640x480 with 1 Axes>"
      ]
     },
     "metadata": {},
     "output_type": "display_data"
    }
   ],
   "source": [
    "import matplotlib.pyplot as plt\n",
    "l=[\"Football\", \"bAsKeTbAlL\", \"Tennis\", \"SwiMMinG\", \"hOcKeY\", \"Golf\", \"rugby\", \"CrIcKeT\", \"BaSeBaLl\", \"CyclIng\",\"ice hockey\"]\n",
    "d={}\n",
    "count=0\n",
    "for i in l:\n",
    "    d[i]= len(i)\n",
    "    if i[0] in \"AEIOUaeiou\":\n",
    "        count+=1\n",
    "ml=max(list(d.values()))\n",
    "for j in d:\n",
    "    if d[j]==ml:\n",
    "        print(j)\n",
    "print(count)\n",
    "plt.hist(list(d.values()))\n",
    "plt.show()"
   ]
  },
  {
   "cell_type": "markdown",
   "id": "45c03ae2-49dc-4b56-9e3c-15289ca95895",
   "metadata": {},
   "source": [
    "## 13.Sorting Dictionaries:"
   ]
  },
  {
   "cell_type": "code",
   "execution_count": 6,
   "id": "84fff1d9-1900-4322-956b-f2b4a5afc132",
   "metadata": {},
   "outputs": [
    {
     "name": "stdout",
     "output_type": "stream",
     "text": [
      "[{'name': 'Bob', 'age': 22}, {'name': 'Alice', 'age': 25}, {'name': 'Duster', 'age': 28}, {'name': 'Charlie', 'age': 31}]\n",
      "[{'name': 'Alice', 'age': 25}, {'name': 'Bob', 'age': 22}, {'name': 'Charlie', 'age': 31}, {'name': 'Duster', 'age': 28}]\n"
     ]
    }
   ],
   "source": [
    "def sort_by(data, key):\n",
    "    return sorted(data, key = lambda d: d[key])\n",
    "\n",
    "data = [\n",
    "    {'name': \"Charlie\", 'age': 31},\n",
    "    {'name': \"Bob\", 'age': 22},\n",
    "    {'name': \"Alice\", 'age': 25},\n",
    "    {'name': \"Duster\", 'age': 28}\n",
    "]\n",
    "\n",
    "print(sort_by(data, 'age'))\n",
    "print(sort_by(data, 'name'))"
   ]
  },
  {
   "cell_type": "markdown",
   "id": "25596864-a254-414d-b7fb-dba70d5520b7",
   "metadata": {},
   "source": [
    "## 14. Word Filtering and Sorting:"
   ]
  },
  {
   "cell_type": "code",
   "execution_count": 7,
   "id": "a7413708-3b39-4e98-a1a1-f47c19f6a288",
   "metadata": {},
   "outputs": [
    {
     "data": {
      "image/png": "[encoded data removed]",
      "text/plain": [
       "<Figure size 640x480 with 1 Axes>"
      ]
     },
     "metadata": {},
     "output_type": "display_data"
    }
   ],
   "source": [
    "import matplotlib.pyplot as plt\n",
    "s= \"The quick brown fox jumps over the lazy dog.\"\n",
    "l=s.split()\n",
    "for i in l:\n",
    "    if len(i)<4:\n",
    "        l.remove(i)\n",
    "l.sort()\n",
    "l2=[]\n",
    "d={}\n",
    "for j in l:\n",
    "    d[j]=len(j)\n",
    "plt.bar(list(d.keys()),list(d.values()))\n",
    "plt.show()"
   ]
  },
  {
   "cell_type": "markdown",
   "id": "6c2d66ac-38ee-49c5-888e-208c872b86c1",
   "metadata": {},
   "source": [
    "## 15. Anagram Finder:"
   ]
  },
  {
   "cell_type": "code",
   "execution_count": 8,
   "id": "b9b555c5-add8-4e1c-9917-a1876f23fe8d",
   "metadata": {},
   "outputs": [
    {
     "name": "stdout",
     "output_type": "stream",
     "text": [
      "['enlist', 'inlets']\n"
     ]
    }
   ],
   "source": [
    "def ag(x,l):\n",
    "    l2=[]\n",
    "    for i in l:\n",
    "        if sorted(i)==sorted(x):\n",
    "            l2.append(i)\n",
    "    return l2\n",
    "word = \"listen\"\n",
    "words = [\"enlist\", \"google\", \"inlets\", \"banana\"]\n",
    "print(ag(word,words))"
   ]
  },
  {
   "cell_type": "markdown",
   "id": "00a5b17f-cc5c-4844-bb98-f86e2eef918d",
   "metadata": {},
   "source": [
    "## 17. File Operations:"
   ]
  },
  {
   "cell_type": "code",
   "execution_count": 9,
   "id": "8137ec5f-d69c-4d7e-b4ba-1cb75f0b281f",
   "metadata": {},
   "outputs": [
    {
     "name": "stdout",
     "output_type": "stream",
     "text": [
      "Sum: 55\n"
     ]
    }
   ],
   "source": [
    "lst = list(range(1, 11))\n",
    "\n",
    "with open('numbers.txt', 'w') as f:\n",
    "    f.write('\\n'.join(map(str, lst)))\n",
    "\n",
    "with open('numbers.txt', 'r') as f:\n",
    "    nums = list(map(int, f.readlines()))\n",
    "    print(f\"Sum: {sum(nums)}\")"
   ]
  },
  {
   "cell_type": "markdown",
   "id": "1fecf1b2-2919-4431-90a0-9c43034494a4",
   "metadata": {},
   "source": [
    "## 21. Basic Statistics:"
   ]
  },
  {
   "cell_type": "code",
   "execution_count": 2,
   "id": "572f18da-80d8-4f7b-a6a3-430066c91a91",
   "metadata": {},
   "outputs": [
    {
     "name": "stdout",
     "output_type": "stream",
     "text": [
      "4.9\n",
      "4.5\n",
      "2.4677925358506134\n",
      "4\n"
     ]
    }
   ],
   "source": [
    "l=[2,4,7,1,4,3,8,5,6,9]\n",
    "mean=sum(l)/len(l)\n",
    "p=0\n",
    "for i in l:\n",
    "    p+=(i-mean)**2\n",
    "sd=(p/len(l))**0.5\n",
    "l.sort()\n",
    "if len(l)%2==0:\n",
    "    x=l[int(len(l)/2)-1]\n",
    "    y=l[int(len(l)/2)]\n",
    "    med=(x+y)/2\n",
    "else:\n",
    "    med=l[int((len(l)-1)/2)]\n",
    "print(mean)\n",
    "print(med)\n",
    "print(sd)\n",
    "d={}\n",
    "for j in l:\n",
    "    if j not in d:\n",
    "        d[j]=1\n",
    "    else:\n",
    "        d[j]+=1\n",
    "m=max(list(d.values()))\n",
    "for k in d:\n",
    "    if d[k]==m:\n",
    "        print(k)"
   ]
  },
  {
   "cell_type": "markdown",
   "id": "981e934c-89c4-4463-b060-21091af9f9c8",
   "metadata": {},
   "source": [
    "## 22. Normalisation:"
   ]
  },
  {
   "cell_type": "code",
   "execution_count": 30,
   "id": "3e6fc032-25cd-41e8-b4c7-44dadb393688",
   "metadata": {},
   "outputs": [
    {
     "name": "stdin",
     "output_type": "stream",
     "text": [
      " 1 2 3 4 5 6 7\n"
     ]
    },
    {
     "name": "stdout",
     "output_type": "stream",
     "text": [
      "[0.0, 0.16666666666666666, 0.3333333333333333, 0.5, 0.6666666666666666, 0.8333333333333334, 1.0]\n"
     ]
    },
    {
     "data": {
      "image/png": "[encoded data removed]",
      "text/plain": [
       "<Figure size 640x480 with 1 Axes>"
      ]
     },
     "metadata": {},
     "output_type": "display_data"
    }
   ],
   "source": [
    "import matplotlib.pyplot as plt\n",
    "l=list(map(int,input().split()))\n",
    "l2=[]\n",
    "for i in l:\n",
    "    l2.append((i-min(l))/(max(l)-min(l)))\n",
    "print(l2)\n",
    "plt.plot(l2)\n",
    "plt.show()"
   ]
  },
  {
   "cell_type": "markdown",
   "id": "2ba67458-4a0e-41a6-968e-9922022264a7",
   "metadata": {},
   "source": [
    "## 23. Even or Odd:"
   ]
  },
  {
   "cell_type": "code",
   "execution_count": 31,
   "id": "757fd05d-1c12-4830-927e-aa9daba7370a",
   "metadata": {},
   "outputs": [
    {
     "name": "stdin",
     "output_type": "stream",
     "text": [
      " 12\n"
     ]
    },
    {
     "name": "stdout",
     "output_type": "stream",
     "text": [
      "Even\n"
     ]
    }
   ],
   "source": [
    "n=int(input())\n",
    "if n&2==0:\n",
    "    print(\"Even\")\n",
    "else:\n",
    "    print(\"Odd\")"
   ]
  },
  {
   "cell_type": "markdown",
   "id": "dfd9d14c-0ed9-42a4-9300-91590a58747a",
   "metadata": {},
   "source": [
    "## 24. Grade Calculator:"
   ]
  },
  {
   "cell_type": "code",
   "execution_count": 32,
   "id": "0eda45b0-df91-48a2-b185-a89aea839d63",
   "metadata": {},
   "outputs": [
    {
     "name": "stdin",
     "output_type": "stream",
     "text": [
      " 73\n"
     ]
    },
    {
     "name": "stdout",
     "output_type": "stream",
     "text": [
      "C\n"
     ]
    }
   ],
   "source": [
    "g=int(input())\n",
    "if 90<=g<=100:\n",
    "    print(\"A\")\n",
    "elif 80<=g<90:\n",
    "    print(\"B\")\n",
    "elif 70<=g<80:\n",
    "    print(\"C\")\n",
    "elif 60<=g<70:\n",
    "    print(\"D\")\n",
    "else:\n",
    "    print(\"F\")"
   ]
  },
  {
   "cell_type": "markdown",
   "id": "ede9b154-fc03-4e6a-814b-bbfc631f59aa",
   "metadata": {},
   "source": [
    "## 25. Leap Year Checker:"
   ]
  },
  {
   "cell_type": "code",
   "execution_count": 33,
   "id": "4c446d62-6867-45b0-8ece-841205b4b1a6",
   "metadata": {},
   "outputs": [
    {
     "name": "stdin",
     "output_type": "stream",
     "text": [
      " 2023\n"
     ]
    },
    {
     "name": "stdout",
     "output_type": "stream",
     "text": [
      "Not a leap year!\n"
     ]
    }
   ],
   "source": [
    "y=int(input())\n",
    "if y%4==0 and y%100!=0:\n",
    "    print(\"Leap year!\")\n",
    "elif y&100==0 and y%400!=0:\n",
    "    print(\"Not a leap year!\")\n",
    "elif y%400==0:\n",
    "    print(\"Leap year!\")\n",
    "else:\n",
    "    print(\"Not a leap year!\")"
   ]
  },
  {
   "cell_type": "code",
   "execution_count": null,
   "id": "4f5993c8-a62d-4fad-aba1-0d7176e7d7e2",
   "metadata": {},
   "outputs": [],
   "source": []
  }
 ],
 "metadata": {
  "kernelspec": {
   "display_name": "Python 3 (ipykernel)",
   "language": "python",
   "name": "python3"
  },
  "language_info": {
   "codemirror_mode": {
    "name": "ipython",
    "version": 3
   },
   "file_extension": ".py",
   "mimetype": "text/x-python",
   "name": "python",
   "nbconvert_exporter": "python",
   "pygments_lexer": "ipython3",
   "version": "3.12.5"
  }
 },
 "nbformat": 4,
 "nbformat_minor": 5
}
